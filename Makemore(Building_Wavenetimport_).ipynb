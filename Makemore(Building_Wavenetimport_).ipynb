{
  "nbformat": 4,
  "nbformat_minor": 0,
  "metadata": {
    "colab": {
      "provenance": [],
      "gpuType": "T4",
      "authorship_tag": "ABX9TyO7Z7aUqeizhACMSe9+Rcue",
      "include_colab_link": true
    },
    "kernelspec": {
      "name": "python3",
      "display_name": "Python 3"
    },
    "language_info": {
      "name": "python"
    },
    "accelerator": "GPU"
  },
  "cells": [
    {
      "cell_type": "markdown",
      "metadata": {
        "id": "view-in-github",
        "colab_type": "text"
      },
      "source": [
        "<a href=\"https://colab.research.google.com/github/shrish23/Makemore/blob/master/Makemore(Building_Wavenetimport_).ipynb\" target=\"_parent\"><img src=\"https://colab.research.google.com/assets/colab-badge.svg\" alt=\"Open In Colab\"/></a>"
      ]
    },
    {
      "cell_type": "code",
      "execution_count": 1,
      "metadata": {
        "id": "VYAxUgMoUwIl"
      },
      "outputs": [],
      "source": [
        "import torch\n",
        "import torch.nn.functional as F\n",
        "import matplotlib.pyplot as plt # for making figures\n",
        "%matplotlib inline"
      ]
    },
    {
      "cell_type": "code",
      "source": [
        "# read in all the words\n",
        "words = open('/content/names.txt', 'r').read().splitlines()\n",
        "print(len(words))\n",
        "print(max(len(w) for w in words))\n",
        "print(words[:8])"
      ],
      "metadata": {
        "colab": {
          "base_uri": "https://localhost:8080/"
        },
        "id": "bL4tSFmrWMyD",
        "outputId": "2d9d24f6-9b46-4a92-9ae9-899d05112f77"
      },
      "execution_count": 3,
      "outputs": [
        {
          "output_type": "stream",
          "name": "stdout",
          "text": [
            "32033\n",
            "15\n",
            "['emma', 'olivia', 'ava', 'isabella', 'sophia', 'charlotte', 'mia', 'amelia']\n"
          ]
        }
      ]
    },
    {
      "cell_type": "code",
      "source": [
        "# build the vocabulary of characters and mappings to/from integers\n",
        "chars = sorted(list(set(''.join(words))))\n",
        "stoi = {s:i+1 for i,s in enumerate(chars)}\n",
        "stoi['.'] = 0\n",
        "itos = {i:s for s,i in stoi.items()}\n",
        "vocab_size = len(itos)\n",
        "print(itos)\n",
        "print(vocab_size)"
      ],
      "metadata": {
        "colab": {
          "base_uri": "https://localhost:8080/"
        },
        "id": "ZpxGWUjBWOhy",
        "outputId": "d0070a65-6cb4-4770-e3c9-e3549a128691"
      },
      "execution_count": 4,
      "outputs": [
        {
          "output_type": "stream",
          "name": "stdout",
          "text": [
            "{1: 'a', 2: 'b', 3: 'c', 4: 'd', 5: 'e', 6: 'f', 7: 'g', 8: 'h', 9: 'i', 10: 'j', 11: 'k', 12: 'l', 13: 'm', 14: 'n', 15: 'o', 16: 'p', 17: 'q', 18: 'r', 19: 's', 20: 't', 21: 'u', 22: 'v', 23: 'w', 24: 'x', 25: 'y', 26: 'z', 0: '.'}\n",
            "27\n"
          ]
        }
      ]
    },
    {
      "cell_type": "code",
      "source": [
        "# Shuffle up the words\n",
        "import random\n",
        "random.seed(42)\n",
        "random.shuffle(words)"
      ],
      "metadata": {
        "id": "R28iYGk3WRmD"
      },
      "execution_count": 5,
      "outputs": []
    },
    {
      "cell_type": "code",
      "source": [
        "# build the dataset\n",
        "#increasing the block size from 3 to 8 to feed more context\n",
        "block_size = 8 # context length: how many characters do we take to predict the next one?\n",
        "\n",
        "def build_dataset(words):\n",
        "  X, Y = [], []\n",
        "\n",
        "  for w in words:\n",
        "    context = [0] * block_size\n",
        "    for ch in w + '.':\n",
        "      ix = stoi[ch]\n",
        "      X.append(context)\n",
        "      Y.append(ix)\n",
        "      context = context[1:] + [ix] # crop and append\n",
        "\n",
        "  X = torch.tensor(X)\n",
        "  Y = torch.tensor(Y)\n",
        "  print(X.shape, Y.shape)\n",
        "  return X, Y\n",
        "\n",
        "\n",
        "random.shuffle(words)\n",
        "n1 = int(0.8*len(words))\n",
        "n2 = int(0.9*len(words))\n",
        "\n",
        "Xtr,  Ytr  = build_dataset(words[:n1])     # 80%\n",
        "Xdev, Ydev = build_dataset(words[n1:n2])   # 10%\n",
        "Xte,  Yte  = build_dataset(words[n2:])     # 10%"
      ],
      "metadata": {
        "colab": {
          "base_uri": "https://localhost:8080/"
        },
        "id": "MfFokrYIWb0G",
        "outputId": "b8632e72-4dee-4aaf-f070-4738a02d6158"
      },
      "execution_count": 6,
      "outputs": [
        {
          "output_type": "stream",
          "name": "stdout",
          "text": [
            "torch.Size([182473, 8]) torch.Size([182473])\n",
            "torch.Size([22827, 8]) torch.Size([22827])\n",
            "torch.Size([22846, 8]) torch.Size([22846])\n"
          ]
        }
      ]
    },
    {
      "cell_type": "code",
      "source": [
        "for x,y in zip(Xtr[:20], Ytr[:20]):\n",
        "  print(''.join(itos[ix.item()] for ix in x), '--->', itos[y.item()])"
      ],
      "metadata": {
        "colab": {
          "base_uri": "https://localhost:8080/"
        },
        "id": "zcvuW1zfWhUV",
        "outputId": "ac172294-bbee-478f-ab4d-6608d39cc047"
      },
      "execution_count": 7,
      "outputs": [
        {
          "output_type": "stream",
          "name": "stdout",
          "text": [
            "........ ---> c\n",
            ".......c ---> a\n",
            "......ca ---> t\n",
            ".....cat ---> h\n",
            "....cath ---> y\n",
            "...cathy ---> .\n",
            "........ ---> k\n",
            ".......k ---> e\n",
            "......ke ---> n\n",
            ".....ken ---> a\n",
            "....kena ---> d\n",
            "...kenad ---> i\n",
            "..kenadi ---> .\n",
            "........ ---> a\n",
            ".......a ---> m\n",
            "......am ---> i\n",
            ".....ami ---> .\n",
            "........ ---> l\n",
            ".......l ---> a\n",
            "......la ---> r\n"
          ]
        }
      ]
    },
    {
      "cell_type": "code",
      "source": [
        "# -----------------------------------------------------------------------------------------------\n",
        "class Linear:\n",
        "\n",
        "  def __init__(self, fan_in, fan_out, bias=True):\n",
        "    self.weight = torch.randn((fan_in, fan_out)) / fan_in**0.5 # note: kaiming init\n",
        "    self.bias = torch.zeros(fan_out) if bias else None\n",
        "\n",
        "  def __call__(self, x):\n",
        "    self.out = x @ self.weight\n",
        "    if self.bias is not None:\n",
        "      self.out += self.bias\n",
        "    return self.out\n",
        "\n",
        "  def parameters(self):\n",
        "    return [self.weight] + ([] if self.bias is None else [self.bias])\n",
        "\n",
        "# -----------------------------------------------------------------------------------------------\n",
        "class BatchNorm1d:\n",
        "\n",
        "  def __init__(self, dim, eps=1e-5, momentum=0.1):\n",
        "    self.eps = eps\n",
        "    self.momentum = momentum\n",
        "    self.training = True\n",
        "    # parameters (trained with backprop)\n",
        "    self.gamma = torch.ones(dim)\n",
        "    self.beta = torch.zeros(dim)\n",
        "    # buffers (trained with a running 'momentum update')\n",
        "    self.running_mean = torch.zeros(dim)\n",
        "    self.running_var = torch.ones(dim)\n",
        "\n",
        "  def __call__(self, x):\n",
        "    # calculate the forward pass\n",
        "    if self.training:\n",
        "      if x.ndim == 2:\n",
        "        dim = 0\n",
        "      elif x.ndim == 3:\n",
        "        dim = (0,1)\n",
        "      xmean = x.mean(dim, keepdim=True) # batch mean\n",
        "      xvar = x.var(dim, keepdim=True) # batch variance\n",
        "    else:\n",
        "      xmean = self.running_mean\n",
        "      xvar = self.running_var\n",
        "    xhat = (x - xmean) / torch.sqrt(xvar + self.eps) # normalize to unit variance\n",
        "    self.out = self.gamma * xhat + self.beta\n",
        "    # update the buffers\n",
        "    if self.training:\n",
        "      with torch.no_grad():\n",
        "        self.running_mean = (1 - self.momentum) * self.running_mean + self.momentum * xmean\n",
        "        self.running_var = (1 - self.momentum) * self.running_var + self.momentum * xvar\n",
        "    return self.out\n",
        "\n",
        "  def parameters(self):\n",
        "    return [self.gamma, self.beta]\n",
        "\n",
        "# -----------------------------------------------------------------------------------------------\n",
        "class Tanh:\n",
        "  def __call__(self, x):\n",
        "    self.out = torch.tanh(x)\n",
        "    return self.out\n",
        "  def parameters(self):\n",
        "    return []\n",
        "\n",
        "#--------------------------------------------------------------------------------------\n",
        "# module for creating the embedding : emb = C[Xb] #embed the characters into vectors of size\n",
        "class Embedding:\n",
        "\n",
        "  def __init__(self, num_embeddings, embedding_dim):\n",
        "    self.weight = torch.randn((num_embeddings, embedding_dim))\n",
        "\n",
        "  def __call__(self, IX):\n",
        "    self.out = self.weight[IX]\n",
        "    return self.out\n",
        "\n",
        "  def parameters(self):\n",
        "    return [self.weight]\n",
        "\n",
        "#------------------------------------------------------------------------------------------------------\n",
        "# module for flattening the embeddings: x = emb.view(emb.shape[0], -1)\n",
        "class Flatten:\n",
        "\n",
        "  def __call__(self, x):\n",
        "    self.out = x.view(x.shape[0], -1)\n",
        "    return self.out\n",
        "  def parameters(self):\n",
        "    return []\n",
        "\n",
        "#---------------------------------------------------------------------------------------------------------------\n",
        "# for flattening consecutive characters\n",
        "class FlattenConsecutive:\n",
        "\n",
        "  def __init__(self,n):\n",
        "    self.n = n\n",
        "\n",
        "  def __call__(self, x):\n",
        "    B, T, C = x.shape\n",
        "    x = x.view(B,T//self.n,C*self.n)\n",
        "    if x.shape[1] == 1:\n",
        "      x = x.squeeze(1)\n",
        "    self.out = x\n",
        "    return self.out\n",
        "\n",
        "  def parameters(self):\n",
        "    return []\n",
        "#------------------------------------------------------------------------------------------------------\n",
        "\n",
        "# Writing a Sequential COntainer code which goes through the layers sequentially as in Pytorch\n",
        "class Sequential:\n",
        "\n",
        "  def __init__(self, layers):\n",
        "    self.layers = layers\n",
        "\n",
        "  def __call__(self, x):\n",
        "    for layer in self.layers:\n",
        "      x = layer(x)\n",
        "    self.out = x\n",
        "    return self.out\n",
        "\n",
        "  def parameters(self):\n",
        "    # get parameters of all layers and stretch them out into one list\n",
        "    return [p for layer in self.layers for p in layer.parameters()]"
      ],
      "metadata": {
        "id": "_KxpsigiWzcr"
      },
      "execution_count": 8,
      "outputs": []
    },
    {
      "cell_type": "code",
      "source": [
        "torch.manual_seed(42); # seed rng for reproducibility"
      ],
      "metadata": {
        "id": "zcwFJhaY_pVU"
      },
      "execution_count": 9,
      "outputs": []
    },
    {
      "cell_type": "code",
      "source": [
        "n_embd = 24 # the dimensionality of the character embedding vectors\n",
        "n_hidden = 128 # the number of neurons in the hidden layer of the MLP\n",
        "g = torch.Generator().manual_seed(2147483647) #reproducibility\n",
        "\n",
        "# C = torch.randn((vocab_size, n_embd), generator=g) We remove as we include the embedding and flatteing layer\n",
        "# layers = [\n",
        "#     Embedding(vocab_size, n_embd),\n",
        "#     Flatten(),\n",
        "#     Linear(n_embd * block_size, n_hidden, bias=False),\n",
        "#     BatchNorm1d(n_hidden),\n",
        "#     Tanh(),\n",
        "#     Linear(n_hidden, vocab_size),\n",
        "# ]\n",
        "\n",
        "model = Sequential([\n",
        "    Embedding(vocab_size, n_embd),\n",
        "    FlattenConsecutive(2),\n",
        "    Linear(n_embd * 2, n_hidden, bias=False),\n",
        "    BatchNorm1d(n_hidden),\n",
        "    Tanh(),\n",
        "    FlattenConsecutive(2),\n",
        "    Linear(n_hidden * 2, n_hidden, bias=False),\n",
        "    BatchNorm1d(n_hidden),\n",
        "    Tanh(),\n",
        "    FlattenConsecutive(2),\n",
        "    Linear(n_hidden * 2, n_hidden, bias=False),\n",
        "    BatchNorm1d(n_hidden),\n",
        "    Tanh(),\n",
        "    Linear(n_hidden, vocab_size),\n",
        "])\n",
        "\n",
        "with torch.no_grad():\n",
        "  # last layer: make less confident\n",
        "  model.layers[-1].weight *= 0.1\n",
        "\n",
        "\n",
        "parameters = model.parameters()\n",
        "print(sum(p.nelement() for p in parameters)) # number of parameters in total\n",
        "for p in parameters:\n",
        "  p.requires_grad = True"
      ],
      "metadata": {
        "colab": {
          "base_uri": "https://localhost:8080/"
        },
        "id": "Z4ewWHJP_wz4",
        "outputId": "275de782-c5bf-4912-cbef-608b0f6e369d"
      },
      "execution_count": 10,
      "outputs": [
        {
          "output_type": "stream",
          "name": "stdout",
          "text": [
            "76579\n"
          ]
        }
      ]
    },
    {
      "cell_type": "markdown",
      "source": [
        "# -------------------------------------\n"
      ],
      "metadata": {
        "id": "Py9kPAY9JPTC"
      }
    },
    {
      "cell_type": "code",
      "source": [
        "# ix = torch.randint(0, Xtr.shape[0], (4,)) # let's look at a batch of just 4 examples\n",
        "# Xb, Yb = Xtr[ix], Ytr[ix] # batch X,Y\n",
        "# logits = model(Xb)\n",
        "# print(Xb.shape)\n",
        "# Xb"
      ],
      "metadata": {
        "colab": {
          "base_uri": "https://localhost:8080/"
        },
        "id": "SVzSPShBsWr4",
        "outputId": "30180fde-277f-4e07-cc15-0fe799a06697"
      },
      "execution_count": 51,
      "outputs": [
        {
          "output_type": "stream",
          "name": "stdout",
          "text": [
            "torch.Size([4, 8])\n"
          ]
        },
        {
          "output_type": "execute_result",
          "data": {
            "text/plain": [
              "tensor([[ 0,  0,  0,  0,  0,  0,  0, 23],\n",
              "        [ 0, 10,  1, 14,  9, 20, 26,  1],\n",
              "        [ 0,  0,  0,  0,  0,  0,  0, 11],\n",
              "        [ 0,  0,  0,  0,  0,  0,  1, 11]])"
            ]
          },
          "metadata": {},
          "execution_count": 51
        }
      ]
    },
    {
      "cell_type": "code",
      "source": [
        "for layer in model.layers:\n",
        "  print(layer.__class__.__name__,':', tuple(layer.out.shape))"
      ],
      "metadata": {
        "colab": {
          "base_uri": "https://localhost:8080/"
        },
        "id": "0BZAoRk_SW1M",
        "outputId": "3382422d-21c2-4e27-a9ec-bad0cd25a975"
      },
      "execution_count": 52,
      "outputs": [
        {
          "output_type": "stream",
          "name": "stdout",
          "text": [
            "Embedding : (4, 8, 10)\n",
            "FlattenConsecutive : (4, 4, 20)\n",
            "Linear : (4, 4, 68)\n",
            "BatchNorm1d : (4, 4, 68)\n",
            "Tanh : (4, 4, 68)\n",
            "FlattenConsecutive : (4, 2, 136)\n",
            "Linear : (4, 2, 68)\n",
            "BatchNorm1d : (4, 2, 68)\n",
            "Tanh : (4, 2, 68)\n",
            "FlattenConsecutive : (4, 136)\n",
            "Linear : (4, 68)\n",
            "BatchNorm1d : (4, 68)\n",
            "Tanh : (4, 68)\n",
            "Linear : (4, 27)\n"
          ]
        }
      ]
    },
    {
      "cell_type": "code",
      "source": [
        "# Passing through embedding layer\n",
        "# model.layers[0].out.shape"
      ],
      "metadata": {
        "colab": {
          "base_uri": "https://localhost:8080/"
        },
        "id": "rir8CpTYJ7Sg",
        "outputId": "8637c73d-bfeb-436e-f19b-3e7954056172"
      },
      "execution_count": 19,
      "outputs": [
        {
          "output_type": "execute_result",
          "data": {
            "text/plain": [
              "torch.Size([4, 8, 10])"
            ]
          },
          "metadata": {},
          "execution_count": 19
        }
      ]
    },
    {
      "cell_type": "code",
      "source": [
        "# model.layers[1].out.shape# output flattening layer"
      ],
      "metadata": {
        "colab": {
          "base_uri": "https://localhost:8080/"
        },
        "id": "DSkkxCo2KSHU",
        "outputId": "1cc1df30-a401-4f71-8b61-a76fb9a44f16"
      },
      "execution_count": 21,
      "outputs": [
        {
          "output_type": "execute_result",
          "data": {
            "text/plain": [
              "torch.Size([4, 80])"
            ]
          },
          "metadata": {},
          "execution_count": 21
        }
      ]
    },
    {
      "cell_type": "code",
      "source": [
        "# model.layers[2].out.shape #output of Linear Layer"
      ],
      "metadata": {
        "colab": {
          "base_uri": "https://localhost:8080/"
        },
        "id": "s_ru9Pn5KY8o",
        "outputId": "e6f12604-7ea3-4e0a-bb64-09a10acfb2ff"
      },
      "execution_count": 22,
      "outputs": [
        {
          "output_type": "execute_result",
          "data": {
            "text/plain": [
              "torch.Size([4, 200])"
            ]
          },
          "metadata": {},
          "execution_count": 22
        }
      ]
    },
    {
      "cell_type": "code",
      "source": [
        "# the inside of the linear layer\n",
        "# (torch.randn(4,80) @ torch.randn(80,200) + torch.randn(200)).shape\n",
        "# The matrix multiplication only changes the last dimension and the dimensions before it are left unchanged"
      ],
      "metadata": {
        "colab": {
          "base_uri": "https://localhost:8080/"
        },
        "id": "u71WLtQ5NFTV",
        "outputId": "b7edd1cf-1ac6-4b6c-b37c-5493ff2a7863"
      },
      "execution_count": 23,
      "outputs": [
        {
          "output_type": "execute_result",
          "data": {
            "text/plain": [
              "torch.Size([4, 200])"
            ]
          },
          "metadata": {},
          "execution_count": 23
        }
      ]
    },
    {
      "cell_type": "code",
      "source": [
        "# Now we don't want the 80 number to come in at once in the layer but instead\n",
        "# we want the characters to fuse into groups of two and so the layer should be\n",
        "# (torch.randn(4,4,20) @ torch.randn(20,200) + torch.randn(200)).shape"
      ],
      "metadata": {
        "colab": {
          "base_uri": "https://localhost:8080/"
        },
        "id": "9mYc7Q5mO9Gl",
        "outputId": "bed38aa4-8250-4c5e-becc-0a7ff552258d"
      },
      "execution_count": 24,
      "outputs": [
        {
          "output_type": "execute_result",
          "data": {
            "text/plain": [
              "torch.Size([4, 4, 200])"
            ]
          },
          "metadata": {},
          "execution_count": 24
        }
      ]
    },
    {
      "cell_type": "code",
      "source": [
        "# list(range(10))[::2]"
      ],
      "metadata": {
        "colab": {
          "base_uri": "https://localhost:8080/"
        },
        "id": "GIttD9U8QJOU",
        "outputId": "22fd9164-2714-4dcf-e3a5-be1d3bc8cd39"
      },
      "execution_count": 27,
      "outputs": [
        {
          "output_type": "execute_result",
          "data": {
            "text/plain": [
              "[0, 2, 4, 6, 8]"
            ]
          },
          "metadata": {},
          "execution_count": 27
        }
      ]
    },
    {
      "cell_type": "code",
      "source": [
        "# Now we will need to change the flattening layer so it does not flatten the whole 8 characters\n",
        "# currently\n",
        "# e = torch.randn(4,8,10)# goal: want this to be (4,4,20) where consecutive 10-d vectors get concatenated\n",
        "# explicit = torch.cat([e[:,::2,:], e[:,1::2,:]], dim=2)\n",
        "# explicit.shape"
      ],
      "metadata": {
        "colab": {
          "base_uri": "https://localhost:8080/"
        },
        "id": "NEdur0JxPvIP",
        "outputId": "c3f8457b-5154-40d7-a012-679ec9e77f45"
      },
      "execution_count": 31,
      "outputs": [
        {
          "output_type": "execute_result",
          "data": {
            "text/plain": [
              "torch.Size([4, 4, 20])"
            ]
          },
          "metadata": {},
          "execution_count": 31
        }
      ]
    },
    {
      "cell_type": "code",
      "source": [
        "# We can also do as\n",
        "# (e.view(4,4,20) == explicit).all()"
      ],
      "metadata": {
        "colab": {
          "base_uri": "https://localhost:8080/"
        },
        "id": "60hBCm0bQtnA",
        "outputId": "85cabc60-0016-4c54-ff88-303f1cc4a27f"
      },
      "execution_count": 32,
      "outputs": [
        {
          "output_type": "execute_result",
          "data": {
            "text/plain": [
              "tensor(True)"
            ]
          },
          "metadata": {},
          "execution_count": 32
        }
      ]
    },
    {
      "cell_type": "code",
      "source": [
        "max_steps = 200000\n",
        "batch_size = 32\n",
        "lossi = []\n",
        "\n",
        "for i in range(max_steps):\n",
        "\n",
        "  # minibatch construct\n",
        "  ix = torch.randint(0, Xtr.shape[0], (batch_size,))\n",
        "  Xb, Yb = Xtr[ix], Ytr[ix] # batch X,Y\n",
        "\n",
        "  #forward pass\n",
        "  # emb = C[Xb] #embed the characters into vectors of size\n",
        "  # x = emb.view(emb.shape[0], -1) # concatenate the vectors\n",
        "  logits = model(Xb)\n",
        "  # x = Xb\n",
        "  # for layer in layers:\n",
        "  #   x = layer(x)\n",
        "  loss = F.cross_entropy(logits, Yb) # loss function\n",
        "\n",
        "  #backward pass\n",
        "  for p in parameters:\n",
        "    p.grad = None\n",
        "  loss.backward()\n",
        "\n",
        "  #update: Simple SGD\n",
        "  lr = 0.1 if i < 150000 else 0.01 # step learning rate decay\n",
        "  for p in parameters:\n",
        "    p.data += -lr * p.grad\n",
        "\n",
        "  #track stats\n",
        "  if i % 10000 == 0:\n",
        "    print(f'{i:7d}/{max_steps:7d}: {loss.item():.4f}')\n",
        "  lossi.append(loss.log10().item())"
      ],
      "metadata": {
        "colab": {
          "base_uri": "https://localhost:8080/"
        },
        "id": "ukyfbAaQAiZd",
        "outputId": "5f10840b-2b13-43ba-b309-ce9b44eac9d8"
      },
      "execution_count": 11,
      "outputs": [
        {
          "output_type": "stream",
          "name": "stdout",
          "text": [
            "      0/ 200000: 3.2823\n",
            "  10000/ 200000: 1.7231\n",
            "  20000/ 200000: 1.9568\n",
            "  30000/ 200000: 1.9583\n",
            "  40000/ 200000: 2.0586\n",
            "  50000/ 200000: 1.9517\n",
            "  60000/ 200000: 1.8026\n",
            "  70000/ 200000: 1.9844\n",
            "  80000/ 200000: 1.7186\n",
            "  90000/ 200000: 2.3924\n",
            " 100000/ 200000: 1.8482\n",
            " 110000/ 200000: 2.0376\n",
            " 120000/ 200000: 2.2169\n",
            " 130000/ 200000: 2.0983\n",
            " 140000/ 200000: 1.9857\n",
            " 150000/ 200000: 1.4636\n",
            " 160000/ 200000: 1.6649\n",
            " 170000/ 200000: 2.0367\n",
            " 180000/ 200000: 1.6043\n",
            " 190000/ 200000: 2.2162\n"
          ]
        }
      ]
    },
    {
      "cell_type": "code",
      "source": [
        "# # Now thw input to the embedding layer is\n",
        "# e = torch.randn(32,4,68)\n",
        "# emean = e.mean((0,1),keepdim=True)# 1,1,68\n",
        "# evar = e.var((0,1),keepdim=True)# 1,1,68\n",
        "# ehat = (e - emean) / torch.sqrt(evar + 1e-5)# 32,4,68\n",
        "# ehat.shape"
      ],
      "metadata": {
        "colab": {
          "base_uri": "https://localhost:8080/"
        },
        "id": "0N0xsG4bxTPs",
        "outputId": "a76bf363-81b1-4170-d8e9-6ecd87bcc59a"
      },
      "execution_count": 53,
      "outputs": [
        {
          "output_type": "execute_result",
          "data": {
            "text/plain": [
              "torch.Size([32, 4, 68])"
            ]
          },
          "metadata": {},
          "execution_count": 53
        }
      ]
    },
    {
      "cell_type": "code",
      "source": [
        "plt.plot(torch.tensor(lossi).view(-1,1000).mean(1))# converted the means to be 1000 in 200 rows and taking mean of the losses in each 200 rows and plotting it"
      ],
      "metadata": {
        "colab": {
          "base_uri": "https://localhost:8080/",
          "height": 447
        },
        "id": "B_VlAYILTPcX",
        "outputId": "3c68eb0f-c0a5-4375-e9ae-81e10b9057ba"
      },
      "execution_count": 45,
      "outputs": [
        {
          "output_type": "execute_result",
          "data": {
            "text/plain": [
              "[<matplotlib.lines.Line2D at 0x7b7876101d50>]"
            ]
          },
          "metadata": {},
          "execution_count": 45
        },
        {
          "output_type": "display_data",
          "data": {
            "text/plain": [
              "<Figure size 640x480 with 1 Axes>"
            ],
            "image/png": "[encoded data removed]"
          },
          "metadata": {}
        }
      ]
    },
    {
      "cell_type": "code",
      "source": [
        "# put layers into eval mode (needed for batchnorm  especially)\n",
        "for layer in model.layers:\n",
        "  layer.training = False"
      ],
      "metadata": {
        "id": "wZtAWlIhIOLv"
      },
      "execution_count": 12,
      "outputs": []
    },
    {
      "cell_type": "code",
      "source": [
        "# evaluate the loss\n",
        "@torch.no_grad()\n",
        "def split_loss(split):\n",
        "  x,y = {\n",
        "      'train': (Xtr, Ytr),\n",
        "      'dev': (Xdev, Ydev),\n",
        "      'test': (Xte, Yte),\n",
        "  }[split]\n",
        "  # emb = C[x]\n",
        "  # x = emb.view(emb.shape[0], -1)\n",
        "  # for layer in layers:\n",
        "  #   x = layer(x)\n",
        "  logits = model(x)\n",
        "  loss = F.cross_entropy(logits, y)\n",
        "  print(split, loss.item())\n",
        "\n",
        "split_loss('train')\n",
        "split_loss('dev')"
      ],
      "metadata": {
        "colab": {
          "base_uri": "https://localhost:8080/"
        },
        "id": "2hstP2V7Iihf",
        "outputId": "616ed949-96fd-48fe-bd82-5c4010146eec"
      },
      "execution_count": 13,
      "outputs": [
        {
          "output_type": "stream",
          "name": "stdout",
          "text": [
            "train 1.7662863731384277\n",
            "dev 1.9836548566818237\n"
          ]
        }
      ]
    },
    {
      "cell_type": "markdown",
      "source": [
        "## performance log\n",
        "\n",
        "- original (3 characters context + 200 hidden neurons, 12K params): train:2.058, val: 2.105\n",
        "\n",
        "- context: 3 -> 8(22k params): train: 1.916, val: 2.027"
      ],
      "metadata": {
        "id": "AzS0cqrDsm55"
      }
    },
    {
      "cell_type": "code",
      "source": [
        "# sample from the model\n",
        "for _ in range(20):\n",
        "\n",
        "  out = []\n",
        "  context = [0] * block_size# initiate with all ...\n",
        "  while True:\n",
        "    logits = model(torch.tensor([context]))\n",
        "    # emb = C[torch.tensor([context])]\n",
        "    # x = emb.view(emb.shape[0], -1)\n",
        "    # for layer in layers:\n",
        "    #   x = layer(x)\n",
        "    # logits = x\n",
        "    probs = F.softmax(logits, dim=1)\n",
        "    ix = torch.multinomial(probs, num_samples=1).item()\n",
        "    context = context[1:] + [ix]\n",
        "    out.append(ix)\n",
        "    if ix == 0:\n",
        "      break\n",
        "\n",
        "  print(''.join(itos[i] for i in out))# decode and print the generated word"
      ],
      "metadata": {
        "colab": {
          "base_uri": "https://localhost:8080/"
        },
        "id": "0ofkKjztJKxp",
        "outputId": "1eff7098-b1e3-42d3-9993-8a9623d44025"
      },
      "execution_count": 14,
      "outputs": [
        {
          "output_type": "stream",
          "name": "stdout",
          "text": [
            "aidalah.\n",
            "giusten.\n",
            "loren.\n",
            "sabas.\n",
            "angelifa.\n",
            "christen.\n",
            "kendley.\n",
            "candi.\n",
            "poond.\n",
            "layla.\n",
            "sylvan.\n",
            "denicie.\n",
            "sudas.\n",
            "daxphose.\n",
            "jakir.\n",
            "issa.\n",
            "eden.\n",
            "casmaguas.\n",
            "iesman.\n",
            "cobine.\n"
          ]
        }
      ]
    },
    {
      "cell_type": "code",
      "source": [],
      "metadata": {
        "id": "DB-JKHGhJyBU"
      },
      "execution_count": null,
      "outputs": []
    }
  ]
}